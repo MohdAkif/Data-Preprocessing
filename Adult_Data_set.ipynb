{
 "cells": [
  {
   "cell_type": "code",
   "execution_count": null,
   "metadata": {},
   "outputs": [],
   "source": [
    "import numpy as np\n",
    "import matplotlib.pyplot as plt\n",
    "import pandas as pd\n",
    "\n",
    "ds=pd.read_csv('adult_data.csv',names=['age','work','fnlwgt','education','enum','marital','occupation','relationship','race','sex','gain','loss','hpw','native','salary'],na_values=' ?')\n",
    "\n",
    "#print(ds['age'].describe())\n",
    "\n",
    "X=ds.iloc[:,0:14].values\n",
    "y=ds.iloc[:,-1].values\n",
    "\n",
    "#checking how many null values are present in my data\n",
    "#print(ds.isnull().sum())\n",
    "\n",
    "temp=pd.DataFrame(X[:,[1,6,13]])\n",
    "\n",
    "#checking which string occur most of the time\n",
    "\n",
    "'''print(temp[0].value_counts())\n",
    "print()\n",
    "print(temp[1].value_counts())\n",
    "print()\n",
    "print(temp[2].value_counts())'''\n",
    "\n",
    "#filling the nan values by mode method\n",
    "\n",
    "temp[0]=temp[0].fillna(' Private')\n",
    "temp[1]=temp[1].fillna(' Prof-speciality')\n",
    "temp[2]=temp[2].fillna(' United-States')\n",
    "\n",
    "#placing the values of temp into the X\n",
    "\n",
    "X[:,[1,6,13]]=temp\n",
    "\n",
    "#deleting the temprary variable\n",
    "\n",
    "del(temp)\n",
    "\n",
    "#string is now int value called as label encoder\n",
    "\n",
    "from sklearn.preprocessing import LabelEncoder\n",
    "lab=LabelEncoder()\n",
    "\n",
    "#at a time only one column can ne encoded\n",
    "\n",
    "X[:,1]=lab.fit_transform(X[:,1].astype(str))\n",
    "X[:,3]=lab.fit_transform(X[:,3].astype(str))\n",
    "X[:,5]=lab.fit_transform(X[:,5].astype(str))\n",
    "X[:,6]=lab.fit_transform(X[:,6].astype(str))\n",
    "X[:,7]=lab.fit_transform(X[:,7].astype(str))\n",
    "X[:,8]=lab.fit_transform(X[:,8].astype(str))\n",
    "X[:,9]=lab.fit_transform(X[:,9].astype(str))\n",
    "X[:,13]=lab.fit_transform(X[:,13].astype(str))\n",
    "\n",
    "#get encoded values in the form of numpy array by using this function\n",
    "\n",
    "lab.classes_\n",
    "\n",
    "#now all encoded value should have same priority\n",
    "#for this we use lib OneHotEncoder\n",
    "\n",
    "from sklearn.preprocessing import OneHotEncoder\n",
    "one=OneHotEncoder(categorical_features=[1,3,5,6,7,8,9,13])\n",
    "X=one.fit_transform(X)\n",
    "X=X.toarray()\n",
    "y=lab.fit_transform(y)\n",
    "\n",
    "#all the values come into a short range\n",
    "\n",
    "from sklearn .preprocessing import StandardScaler\n",
    "sc=StandardScaler()\n",
    "X=sc.fit_transform(X)"
   ]
  },
  {
   "cell_type": "code",
   "execution_count": 2,
   "metadata": {},
   "outputs": [
    {
     "name": "stdout",
     "output_type": "stream",
     "text": [
      "C:\\Users\\Mohd Akif\n"
     ]
    }
   ],
   "source": [
    "import os\n",
    "print(os.getcwd())"
   ]
  },
  {
   "cell_type": "code",
   "execution_count": null,
   "metadata": {},
   "outputs": [],
   "source": []
  }
 ],
 "metadata": {
  "kernelspec": {
   "display_name": "Python 3",
   "language": "python",
   "name": "python3"
  },
  "language_info": {
   "codemirror_mode": {
    "name": "ipython",
    "version": 3
   },
   "file_extension": ".py",
   "mimetype": "text/x-python",
   "name": "python",
   "nbconvert_exporter": "python",
   "pygments_lexer": "ipython3",
   "version": "3.7.1"
  }
 },
 "nbformat": 4,
 "nbformat_minor": 2
}
