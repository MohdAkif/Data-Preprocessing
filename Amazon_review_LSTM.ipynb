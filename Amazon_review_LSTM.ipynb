{
 "cells": [
  {
   "cell_type": "code",
   "execution_count": 79,
   "metadata": {},
   "outputs": [],
   "source": [
    "#importing the libraries\n",
    "import numpy as np\n",
    "import matplotlib.pyplot as plt\n",
    "import pandas as pd\n",
    "import re\n",
    "import nltk\n",
    "from nltk.corpus import stopwords\n",
    "from nltk.stem.porter import PorterStemmer\n",
    "import string\n",
    "ps=PorterStemmer()\n",
    "stop = set(stopwords.words('english'))\n",
    "punctuation = list(string.punctuation)\n",
    "from keras.models import Sequential\n",
    "from keras.layers import LSTM,Dense\n",
    "from keras.preprocessing import sequence\n",
    "from keras.layers.embeddings import Embedding"
   ]
  },
  {
   "cell_type": "code",
   "execution_count": 80,
   "metadata": {},
   "outputs": [
    {
     "name": "stdout",
     "output_type": "stream",
     "text": [
      "(568454, 10)\n"
     ]
    }
   ],
   "source": [
    "#reding the data set\n",
    "ds=pd.read_csv('D:\\\\dataset\\\\amazon_reviews\\\\Reviews.csv')\n",
    "print(ds.shape)"
   ]
  },
  {
   "cell_type": "code",
   "execution_count": 81,
   "metadata": {},
   "outputs": [
    {
     "name": "stdout",
     "output_type": "stream",
     "text": [
      "5    250962\n",
      "4     56094\n",
      "1     36306\n",
      "3     29769\n",
      "2     20802\n",
      "Name: Score, dtype: int64\n",
      "(393933, 10)\n"
     ]
    }
   ],
   "source": [
    "#now we are removing the duplicate rows\n",
    "ds.drop_duplicates(subset={'UserId','ProfileName','Time','Text'},keep='first',inplace=True)\n",
    "#print(ds.head())\n",
    "print(ds['Score'].value_counts())\n",
    "print(ds.shape)"
   ]
  },
  {
   "cell_type": "code",
   "execution_count": 82,
   "metadata": {},
   "outputs": [
    {
     "name": "stdout",
     "output_type": "stream",
     "text": [
      "0    5\n",
      "1    1\n",
      "2    4\n",
      "3    2\n",
      "4    5\n",
      "Name: Score, dtype: int64\n",
      "total number of duplicates row are:  29769\n",
      "(364164, 10)\n"
     ]
    }
   ],
   "source": [
    "#now we are removing the rows where score ==3 because we don't know that we have take positive or negative\n",
    "final_ds=ds.loc[ds['Score'] != 3]\n",
    "print(final_ds['Score'][:5])\n",
    "print(\"total number of duplicates row are: \",len(ds)-len(final_ds))\n",
    "#now we don't need Id\n",
    "print(final_ds.shape)"
   ]
  },
  {
   "cell_type": "code",
   "execution_count": 83,
   "metadata": {},
   "outputs": [
    {
     "name": "stdout",
     "output_type": "stream",
     "text": [
      "Positive    307056\n",
      "Negative     57108\n",
      "Name: Score, dtype: int64\n"
     ]
    },
    {
     "name": "stderr",
     "output_type": "stream",
     "text": [
      "C:\\Users\\mohda\\Anaconda3\\envs\\tensorflow\\lib\\site-packages\\ipykernel_launcher.py:9: SettingWithCopyWarning: \n",
      "A value is trying to be set on a copy of a slice from a DataFrame.\n",
      "Try using .loc[row_indexer,col_indexer] = value instead\n",
      "\n",
      "See the caveats in the documentation: https://pandas.pydata.org/pandas-docs/stable/user_guide/indexing.html#returning-a-view-versus-a-copy\n",
      "  if __name__ == '__main__':\n"
     ]
    }
   ],
   "source": [
    "#now we are converting the reating into binary form\n",
    "def partition(x):\n",
    "    if(x<3):\n",
    "        return 'Negative'\n",
    "    else:\n",
    "        return \"Positive\"\n",
    "actual_score=final_ds['Score']\n",
    "positiveNegative=actual_score.map(partition)\n",
    "final_ds['Score']=positiveNegative\n",
    "print(final_ds['Score'].value_counts())"
   ]
  },
  {
   "cell_type": "code",
   "execution_count": 84,
   "metadata": {},
   "outputs": [
    {
     "name": "stderr",
     "output_type": "stream",
     "text": [
      "C:\\Users\\mohda\\Anaconda3\\envs\\tensorflow\\lib\\site-packages\\pandas\\core\\frame.py:3997: SettingWithCopyWarning: \n",
      "A value is trying to be set on a copy of a slice from a DataFrame\n",
      "\n",
      "See the caveats in the documentation: https://pandas.pydata.org/pandas-docs/stable/user_guide/indexing.html#returning-a-view-versus-a-copy\n",
      "  errors=errors,\n"
     ]
    },
    {
     "data": {
      "text/html": [
       "<div>\n",
       "<style scoped>\n",
       "    .dataframe tbody tr th:only-of-type {\n",
       "        vertical-align: middle;\n",
       "    }\n",
       "\n",
       "    .dataframe tbody tr th {\n",
       "        vertical-align: top;\n",
       "    }\n",
       "\n",
       "    .dataframe thead th {\n",
       "        text-align: right;\n",
       "    }\n",
       "</style>\n",
       "<table border=\"1\" class=\"dataframe\">\n",
       "  <thead>\n",
       "    <tr style=\"text-align: right;\">\n",
       "      <th></th>\n",
       "      <th>ProductId</th>\n",
       "      <th>UserId</th>\n",
       "      <th>ProfileName</th>\n",
       "      <th>HelpfulnessNumerator</th>\n",
       "      <th>HelpfulnessDenominator</th>\n",
       "      <th>Score</th>\n",
       "      <th>Time</th>\n",
       "      <th>Summary</th>\n",
       "      <th>Text</th>\n",
       "    </tr>\n",
       "  </thead>\n",
       "  <tbody>\n",
       "    <tr>\n",
       "      <th>0</th>\n",
       "      <td>B001E4KFG0</td>\n",
       "      <td>A3SGXH7AUHU8GW</td>\n",
       "      <td>delmartian</td>\n",
       "      <td>1</td>\n",
       "      <td>1</td>\n",
       "      <td>Positive</td>\n",
       "      <td>1303862400</td>\n",
       "      <td>Good Quality Dog Food</td>\n",
       "      <td>I have bought several of the Vitality canned d...</td>\n",
       "    </tr>\n",
       "    <tr>\n",
       "      <th>1</th>\n",
       "      <td>B00813GRG4</td>\n",
       "      <td>A1D87F6ZCVE5NK</td>\n",
       "      <td>dll pa</td>\n",
       "      <td>0</td>\n",
       "      <td>0</td>\n",
       "      <td>Negative</td>\n",
       "      <td>1346976000</td>\n",
       "      <td>Not as Advertised</td>\n",
       "      <td>Product arrived labeled as Jumbo Salted Peanut...</td>\n",
       "    </tr>\n",
       "    <tr>\n",
       "      <th>2</th>\n",
       "      <td>B000LQOCH0</td>\n",
       "      <td>ABXLMWJIXXAIN</td>\n",
       "      <td>Natalia Corres \"Natalia Corres\"</td>\n",
       "      <td>1</td>\n",
       "      <td>1</td>\n",
       "      <td>Positive</td>\n",
       "      <td>1219017600</td>\n",
       "      <td>\"Delight\" says it all</td>\n",
       "      <td>This is a confection that has been around a fe...</td>\n",
       "    </tr>\n",
       "    <tr>\n",
       "      <th>3</th>\n",
       "      <td>B000UA0QIQ</td>\n",
       "      <td>A395BORC6FGVXV</td>\n",
       "      <td>Karl</td>\n",
       "      <td>3</td>\n",
       "      <td>3</td>\n",
       "      <td>Negative</td>\n",
       "      <td>1307923200</td>\n",
       "      <td>Cough Medicine</td>\n",
       "      <td>If you are looking for the secret ingredient i...</td>\n",
       "    </tr>\n",
       "    <tr>\n",
       "      <th>4</th>\n",
       "      <td>B006K2ZZ7K</td>\n",
       "      <td>A1UQRSCLF8GW1T</td>\n",
       "      <td>Michael D. Bigham \"M. Wassir\"</td>\n",
       "      <td>0</td>\n",
       "      <td>0</td>\n",
       "      <td>Positive</td>\n",
       "      <td>1350777600</td>\n",
       "      <td>Great taffy</td>\n",
       "      <td>Great taffy at a great price.  There was a wid...</td>\n",
       "    </tr>\n",
       "  </tbody>\n",
       "</table>\n",
       "</div>"
      ],
      "text/plain": [
       "    ProductId          UserId                      ProfileName  \\\n",
       "0  B001E4KFG0  A3SGXH7AUHU8GW                       delmartian   \n",
       "1  B00813GRG4  A1D87F6ZCVE5NK                           dll pa   \n",
       "2  B000LQOCH0   ABXLMWJIXXAIN  Natalia Corres \"Natalia Corres\"   \n",
       "3  B000UA0QIQ  A395BORC6FGVXV                             Karl   \n",
       "4  B006K2ZZ7K  A1UQRSCLF8GW1T    Michael D. Bigham \"M. Wassir\"   \n",
       "\n",
       "   HelpfulnessNumerator  HelpfulnessDenominator     Score        Time  \\\n",
       "0                     1                       1  Positive  1303862400   \n",
       "1                     0                       0  Negative  1346976000   \n",
       "2                     1                       1  Positive  1219017600   \n",
       "3                     3                       3  Negative  1307923200   \n",
       "4                     0                       0  Positive  1350777600   \n",
       "\n",
       "                 Summary                                               Text  \n",
       "0  Good Quality Dog Food  I have bought several of the Vitality canned d...  \n",
       "1      Not as Advertised  Product arrived labeled as Jumbo Salted Peanut...  \n",
       "2  \"Delight\" says it all  This is a confection that has been around a fe...  \n",
       "3         Cough Medicine  If you are looking for the secret ingredient i...  \n",
       "4            Great taffy  Great taffy at a great price.  There was a wid...  "
      ]
     },
     "execution_count": 84,
     "metadata": {},
     "output_type": "execute_result"
    }
   ],
   "source": [
    "#droping the id column because there is use of that\n",
    "final_ds.drop(columns='Id',inplace=True)\n",
    "final_ds.head()"
   ]
  },
  {
   "cell_type": "code",
   "execution_count": 85,
   "metadata": {},
   "outputs": [
    {
     "name": "stdout",
     "output_type": "stream",
     "text": [
      "16952\n"
     ]
    }
   ],
   "source": [
    "#checking the maximum length of text\n",
    "ans=0\n",
    "for text in final_ds['Text']:\n",
    "    if(len(text)>ans):\n",
    "        ans=len(text)\n",
    "print(ans)"
   ]
  },
  {
   "cell_type": "code",
   "execution_count": 86,
   "metadata": {},
   "outputs": [
    {
     "data": {
      "text/plain": [
       "ProductId                  0\n",
       "UserId                     0\n",
       "ProfileName               11\n",
       "HelpfulnessNumerator       0\n",
       "HelpfulnessDenominator     0\n",
       "Score                      0\n",
       "Time                       0\n",
       "Summary                    1\n",
       "Text                       0\n",
       "dtype: int64"
      ]
     },
     "execution_count": 86,
     "metadata": {},
     "output_type": "execute_result"
    }
   ],
   "source": [
    "#checking the null value\n",
    "final_ds.isnull().sum()"
   ]
  },
  {
   "cell_type": "code",
   "execution_count": 91,
   "metadata": {},
   "outputs": [
    {
     "data": {
      "text/plain": [
       "\"I have never been a huge coffee fan. However, my mother purchased this little machine and talked me into trying the Latte Macciato. No Coffee Shop has a better one and I like most of the other products, too (as a usually non-coffee drinker!).<br />The little Dolche Guesto Machine is super easy to use and prepares a really good Coffee/Latte/Cappuccino/etc in less than a minute (if water is heated up). I would recommend the Dolce Gusto to anyone. Too good for the price and I'am getting one myself! :)\""
      ]
     },
     "execution_count": 91,
     "metadata": {},
     "output_type": "execute_result"
    }
   ],
   "source": [
    "#droping the null values row\n",
    "final_ds=final_ds.dropna()\n",
    "final_ds.reset_index(drop=True,inplace=True)\n",
    "final_ds['Text'][29]"
   ]
  },
  {
   "cell_type": "code",
   "execution_count": 92,
   "metadata": {},
   "outputs": [],
   "source": [
    "#for making the model i have consider only for 1 row this model can also for same column\n",
    "X=final_ds['Text'][:50000]\n",
    "y=final_ds['Score'][:50000]"
   ]
  },
  {
   "cell_type": "code",
   "execution_count": 93,
   "metadata": {},
   "outputs": [
    {
     "name": "stdout",
     "output_type": "stream",
     "text": [
      "<class 'pandas.core.series.Series'>\n",
      "total time taken : 20.102236032485962\n",
      "bought several vitality canned dog food products found good quality product looks like stew processed meat smells better labrador finicky appreciates product better\n"
     ]
    }
   ],
   "source": [
    "import time\n",
    "s=time.time()\n",
    "print(type(X))\n",
    "for i in range(len(X)):\n",
    "    temp=re.sub('[^[a-zA-Z]',' ',X[i])\n",
    "    temp=temp.lower()\n",
    "    pattern = re.compile(r'\\b(' + r'|'.join(stopwords.words('english')) + r')\\b\\s*')\n",
    "    temp = pattern.sub('', temp)\n",
    "    temp=temp.split()\n",
    "    #temp=[word for word in temp if temp not in stopwords.words('english')]\n",
    "    X[i]=\" \".join(temp)\n",
    "print('total time taken :',time.time()-s)\n",
    "print(X[0])"
   ]
  },
  {
   "cell_type": "code",
   "execution_count": 94,
   "metadata": {},
   "outputs": [],
   "source": [
    "#calculation the frequency of each word \n",
    "frequency={}\n",
    "for i in range(len(X)):\n",
    "    for word in X[i].split():\n",
    "        try:\n",
    "            frequency[word]+=1\n",
    "        except:\n",
    "            frequency[word]=1"
   ]
  },
  {
   "cell_type": "code",
   "execution_count": 95,
   "metadata": {},
   "outputs": [],
   "source": [
    "#sorting the frequency with respect to occurance of letter\n",
    "frequency={k:v for k ,v in sorted(frequency.items(),key=lambda item : item[1],reverse=True)}"
   ]
  },
  {
   "cell_type": "code",
   "execution_count": 96,
   "metadata": {},
   "outputs": [],
   "source": [
    "#giving the ranking accoring to the frequency\n",
    "f={} ; i=1\n",
    "for k,v in frequency.items():\n",
    "    f[k]=i\n",
    "    i+=1"
   ]
  },
  {
   "cell_type": "code",
   "execution_count": 97,
   "metadata": {},
   "outputs": [],
   "source": [
    "#converting the data into numerical form using rank of frequency of words\n",
    "text=[]\n",
    "for i in range(len(X)):\n",
    "    temp=[]\n",
    "    for word in X[i].split():\n",
    "        temp.append(f[word])\n",
    "    text.append(temp)\n",
    "text=np.array(text)"
   ]
  },
  {
   "cell_type": "code",
   "execution_count": 106,
   "metadata": {},
   "outputs": [],
   "source": [
    "#converting the y into bianry form\n",
    "y=[1 if i=='Positive' else 0 for i in y]\n",
    "y=np.array(y)"
   ]
  },
  {
   "cell_type": "code",
   "execution_count": 107,
   "metadata": {},
   "outputs": [
    {
     "name": "stdout",
     "output_type": "stream",
     "text": [
      "40000 40000\n"
     ]
    }
   ],
   "source": [
    "#spliting the data into train and test\n",
    "split=int(len(text)*.8)\n",
    "train_x=text[:split] ; train_y=y[:split]\n",
    "test_x=text[split:] ; test_y=y[split:]\n",
    "print(len(train_x),len(train_y))"
   ]
  },
  {
   "cell_type": "code",
   "execution_count": 108,
   "metadata": {},
   "outputs": [],
   "source": [
    "#choosing only top 5000 words\n",
    "top_words=5000\n",
    "for i in range(len(train_x)):\n",
    "    temp=[]\n",
    "    for j in train_x[i]:\n",
    "        if(j<=5000):\n",
    "            temp.append(j)\n",
    "    train_x[i]=temp\n",
    "for i in range(len(test_x)):\n",
    "    temp=[]\n",
    "    for j in test_x[i]:\n",
    "        if(j<=5000):\n",
    "            temp.append(j)\n",
    "    test_x[i]=temp"
   ]
  },
  {
   "cell_type": "code",
   "execution_count": 109,
   "metadata": {},
   "outputs": [],
   "source": [
    "#doing padding for making the batch\n",
    "max_length_review=600\n",
    "train_x=sequence.pad_sequences(train_x,maxlen=max_length_review)\n",
    "test_x=sequence.pad_sequences(test_x,maxlen=max_length_review)"
   ]
  },
  {
   "cell_type": "code",
   "execution_count": 110,
   "metadata": {},
   "outputs": [
    {
     "name": "stdout",
     "output_type": "stream",
     "text": [
      "Model: \"sequential_5\"\n",
      "_________________________________________________________________\n",
      "Layer (type)                 Output Shape              Param #   \n",
      "=================================================================\n",
      "embedding_3 (Embedding)      (None, 600, 32)           160000    \n",
      "_________________________________________________________________\n",
      "lstm_3 (LSTM)                (None, 100)               53200     \n",
      "_________________________________________________________________\n",
      "dense_3 (Dense)              (None, 1)                 101       \n",
      "=================================================================\n",
      "Total params: 213,301\n",
      "Trainable params: 213,301\n",
      "Non-trainable params: 0\n",
      "_________________________________________________________________\n"
     ]
    }
   ],
   "source": [
    "#building the model for training the data\n",
    "embedding_vector_length=32\n",
    "model=Sequential()\n",
    "model.add(Embedding(top_words,embedding_vector_length,input_length=600))\n",
    "model.add(LSTM(100))\n",
    "model.add(Dense(1,activation='sigmoid'))\n",
    "model.compile(loss='binary_crossentropy',optimizer='adam',metrics=['accuracy'])\n",
    "model.summary()"
   ]
  },
  {
   "cell_type": "code",
   "execution_count": 111,
   "metadata": {},
   "outputs": [
    {
     "name": "stderr",
     "output_type": "stream",
     "text": [
      "C:\\Users\\mohda\\Anaconda3\\envs\\tensorflow\\lib\\site-packages\\ipykernel_launcher.py:2: UserWarning: The `nb_epoch` argument in `fit` has been renamed `epochs`.\n",
      "  \n",
      "C:\\Users\\mohda\\Anaconda3\\envs\\tensorflow\\lib\\site-packages\\tensorflow_core\\python\\framework\\indexed_slices.py:424: UserWarning: Converting sparse IndexedSlices to a dense Tensor of unknown shape. This may consume a large amount of memory.\n",
      "  \"Converting sparse IndexedSlices to a dense Tensor of unknown shape. \"\n"
     ]
    },
    {
     "name": "stdout",
     "output_type": "stream",
     "text": [
      "Train on 40000 samples, validate on 10000 samples\n",
      "Epoch 1/10\n",
      "40000/40000 [==============================] - 371s 9ms/step - loss: 0.0100 - accuracy: 0.9992 - val_loss: 1.0902e-05 - val_accuracy: 1.0000\n",
      "Epoch 2/10\n",
      "40000/40000 [==============================] - 373s 9ms/step - loss: 6.9396e-06 - accuracy: 1.0000 - val_loss: 4.4866e-06 - val_accuracy: 1.0000\n",
      "Epoch 3/10\n",
      "40000/40000 [==============================] - 370s 9ms/step - loss: 3.3428e-06 - accuracy: 1.0000 - val_loss: 2.4867e-06 - val_accuracy: 1.0000\n",
      "Epoch 4/10\n",
      "40000/40000 [==============================] - 369s 9ms/step - loss: 1.9710e-06 - accuracy: 1.0000 - val_loss: 1.5539e-06 - val_accuracy: 1.0000\n",
      "Epoch 5/10\n",
      "40000/40000 [==============================] - 370s 9ms/step - loss: 1.2714e-06 - accuracy: 1.0000 - val_loss: 1.0334e-06 - val_accuracy: 1.0000\n",
      "Epoch 6/10\n",
      "40000/40000 [==============================] - 371s 9ms/step - loss: 8.6138e-07 - accuracy: 1.0000 - val_loss: 7.1282e-07 - val_accuracy: 1.0000\n",
      "Epoch 7/10\n",
      "40000/40000 [==============================] - 369s 9ms/step - loss: 6.0114e-07 - accuracy: 1.0000 - val_loss: 5.0317e-07 - val_accuracy: 1.0000\n",
      "Epoch 8/10\n",
      "40000/40000 [==============================] - 370s 9ms/step - loss: 4.2759e-07 - accuracy: 1.0000 - val_loss: 3.6062e-07 - val_accuracy: 1.0000\n",
      "Epoch 9/10\n",
      "40000/40000 [==============================] - 368s 9ms/step - loss: 3.0804e-07 - accuracy: 1.0000 - val_loss: 2.6112e-07 - val_accuracy: 1.0000\n",
      "Epoch 10/10\n",
      "40000/40000 [==============================] - 369s 9ms/step - loss: 2.2384e-07 - accuracy: 1.0000 - val_loss: 1.9041e-07 - val_accuracy: 1.0000\n"
     ]
    }
   ],
   "source": [
    "#training the model for input data\n",
    "history=model.fit(train_x,train_y,nb_epoch=10,batch_size=64,verbose=1,validation_data=(test_x,test_y))"
   ]
  },
  {
   "cell_type": "code",
   "execution_count": 113,
   "metadata": {},
   "outputs": [
    {
     "data": {
      "image/png": "[encoded data removed]",
      "text/plain": [
       "<Figure size 432x288 with 1 Axes>"
      ]
     },
     "metadata": {
      "needs_background": "light"
     },
     "output_type": "display_data"
    },
    {
     "data": {
      "image/png": "[encoded data removed]",
      "text/plain": [
       "<Figure size 432x288 with 1 Axes>"
      ]
     },
     "metadata": {
      "needs_background": "light"
     },
     "output_type": "display_data"
    }
   ],
   "source": [
    "plt.plot(history.history['accuracy'])\n",
    "plt.plot(history.history['val_accuracy'])\n",
    "plt.title('model accuracy')\n",
    "plt.ylabel('accuracy')\n",
    "plt.xlabel('epoch')\n",
    "plt.legend(['train', 'test'], loc='lower right')\n",
    "plt.show()\n",
    "# summarize history for loss\n",
    "plt.plot(history.history['loss'])\n",
    "plt.plot(history.history['val_loss'])\n",
    "plt.title('model loss')\n",
    "plt.ylabel('loss')\n",
    "plt.xlabel('epoch')\n",
    "plt.legend(['train', 'test'], loc='upper right')\n",
    "plt.show()"
   ]
  },
  {
   "cell_type": "code",
   "execution_count": null,
   "metadata": {},
   "outputs": [],
   "source": []
  },
  {
   "cell_type": "code",
   "execution_count": null,
   "metadata": {},
   "outputs": [],
   "source": []
  }
 ],
 "metadata": {
  "kernelspec": {
   "display_name": "Python 3.7 (tensorflow)",
   "language": "python",
   "name": "tensorflow"
  },
  "language_info": {
   "codemirror_mode": {
    "name": "ipython",
    "version": 3
   },
   "file_extension": ".py",
   "mimetype": "text/x-python",
   "name": "python",
   "nbconvert_exporter": "python",
   "pygments_lexer": "ipython3",
   "version": "3.7.7"
  }
 },
 "nbformat": 4,
 "nbformat_minor": 4
}
